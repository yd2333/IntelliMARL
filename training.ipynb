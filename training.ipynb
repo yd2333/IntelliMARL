{
 "cells": [
  {
   "cell_type": "code",
   "execution_count": 1,
   "id": "9d56d836-f553-4082-afc3-28f9879bb739",
   "metadata": {
    "colab": {
     "base_uri": "https://localhost:8080/",
     "height": 374
    },
    "executionInfo": {
     "elapsed": 158,
     "status": "error",
     "timestamp": 1670205694350,
     "user": {
      "displayName": "Ying Lu",
      "userId": "08374936835149179559"
     },
     "user_tz": 360
    },
    "id": "9d56d836-f553-4082-afc3-28f9879bb739",
    "outputId": "3a28d041-01bc-441d-aac5-0df0f3a8c2b4"
   },
   "outputs": [
    {
     "name": "stderr",
     "output_type": "stream",
     "text": [
      "C:\\Users\\NiSz\\Anaconda3\\envs\\ml\\lib\\site-packages\\tqdm\\auto.py:22: TqdmWarning: IProgress not found. Please update jupyter and ipywidgets. See https://ipywidgets.readthedocs.io/en/stable/user_install.html\n",
      "  from .autonotebook import tqdm as notebook_tqdm\n"
     ]
    }
   ],
   "source": [
    "import env\n",
    "import numpy as np\n",
    "import agents_gpu as agent\n",
    "import copy\n",
    "import torch as tr\n",
    "from torch import nn\n",
    "from matplotlib import pyplot as plt"
   ]
  },
  {
   "cell_type": "markdown",
   "id": "b95e2abb-d0ce-4f71-8a4a-561f168cb444",
   "metadata": {},
   "source": [
    "# ToM"
   ]
  },
  {
   "cell_type": "markdown",
   "id": "39d48b5a-1d46-4721-ac86-2de14a826642",
   "metadata": {
    "id": "39d48b5a-1d46-4721-ac86-2de14a826642"
   },
   "source": [
    "## initialization"
   ]
  },
  {
   "cell_type": "code",
   "execution_count": null,
   "id": "443985dd-9ac5-4272-b1c6-bed75532b1d8",
   "metadata": {
    "id": "443985dd-9ac5-4272-b1c6-bed75532b1d8",
    "outputId": "37ebf224-f123-4b33-ae96-043dac619f38"
   },
   "outputs": [],
   "source": [
    "%%time\n",
    "n_agents = 2\n",
    "agents = [agent.ExToMAgent(lr = 0.01, obs_shape = (11, 11, 4)) for i in range(n_agents)]\n",
    "batch_size = 128\n",
    "n_runs = 500"
   ]
  },
  {
   "cell_type": "markdown",
   "id": "92d555af-7610-49a0-b15c-d082cf126231",
   "metadata": {
    "id": "92d555af-7610-49a0-b15c-d082cf126231"
   },
   "source": [
    "## Run training"
   ]
  },
  {
   "cell_type": "code",
   "execution_count": null,
   "id": "fe5aa4ab-ba83-491a-aeff-6d317ddb6ca5",
   "metadata": {
    "id": "fe5aa4ab-ba83-491a-aeff-6d317ddb6ca5",
    "outputId": "e33327e2-0d9d-4893-d4e2-3b4a950f1b1d"
   },
   "outputs": [],
   "source": [
    "%%time\n",
    "rewardss = []\n",
    "ws = []\n",
    "for i in range(n_runs):\n",
    "    envs = [env.GridWorld(size = 11, n_target = 4) for i in range(batch_size)]\n",
    "    ws.append(copy.deepcopy(agents[0].policy.fc.weight.cpu().detach())) \n",
    "    state = np.zeros([batch_size, 2, 11, 11, 4])\n",
    "    for ie, e in enumerate(envs): # initial env\n",
    "        e.reset()\n",
    "        state[ie] = e.observe()\n",
    "    observes = [state[:, ia, :, :, :].transpose([0, 3, 1, 2]) for ia in range(n_agents)]\n",
    "    re = []\n",
    "    \n",
    "    for istep in range(10):\n",
    "        act = [agents[ia].act(observes[ia]) for ia in range(n_agents)]\n",
    "        \n",
    "        state = np.zeros([batch_size, n_agents, 11, 11, 4])\n",
    "        rewards = np.zeros([batch_size])\n",
    "        dones = np.zeros([batch_size])\n",
    "        for ie, e in enumerate(envs):\n",
    "            _state, reward, done = e.step([act[ia][ie, 0].item() for ia in range(n_agents)])\n",
    "            state[ie,:,:,:,:] = _state\n",
    "            rewards[ie] = reward\n",
    "            dones[ie] = done\n",
    "        observes = [state[:, ia, :, :, :4].transpose([0, 3, 1, 2]).copy() for ia in range(n_agents)]\n",
    "        re.append(np.mean(rewards))\n",
    "\n",
    "        for ia in range(n_agents):\n",
    "            agents[ia].record(rewards, observes[ia], dones)\n",
    "            agents[ia].train_policy()\n",
    "        if agents[0].trainingprocess==1:\n",
    "            history_states, trajectories = [], []\n",
    "            for ie in range(batch_size):\n",
    "                _history_states, _trajectories = envs[ie].recall()\n",
    "                history_states.append(_history_states)\n",
    "                trajectories.append(_trajectories)\n",
    "            history_obs = np.concatenate(history_states)\n",
    "            trajectories = np.concatenate(trajectories)\n",
    "            for ia in range(n_agents):\n",
    "                obs = history_obs[:, ia, :, :, :][:, :, :, [0, 1, 3]].transpose([0, 3, 1, 2]).copy()\n",
    "                traj = trajectories[:,:,:,ia]\n",
    "                for j in range(round(10)):\n",
    "                    agents[ia].train_ToMNet(obs, traj)\n",
    "    for ia in range(n_agents):\n",
    "        agents[ia].reset()\n",
    "    rewardss.append(re)\n",
    "    if i%10 ==0:\n",
    "        if agents[0].trainingprocess==1:\n",
    "            print(\"Epoch \\t%d \\t Reward %.2f \\t ToM Loss %.5f\"%(i, np.sum(rewardss[-1]), agents[0].ToMloss[-1]))\n",
    "        else:\n",
    "            print(\"Epoch \\t%d \\t Reward %.2f \\t ToM Loss untrained\"%(i, np.sum(rewardss[-1])))\n",
    "    tr.cuda.empty_cache()\n",
    "tr.save(agents[0].policy.state_dict(), 'PolicyNet_dict_ExToM.pt')\n",
    "tr.save(agents[0].ToMNet.state_dict(), 'ToMNet_dict.pt')\n",
    "np.save(\"ExToM.npy\", ((agents[0].loss, agents[1].loss, agents[0].ToMloss, agents[1].ToMloss), rewardss), dtype=object)"
   ]
  },
  {
   "cell_type": "code",
   "execution_count": 6,
   "id": "75969aa9-b75a-4975-a93c-b5e470378fc8",
   "metadata": {
    "id": "56486821-0f22-4ceb-886c-533c10cf9bd7",
    "outputId": "697b7f0e-c50d-4d65-864c-f7a7624174d4"
   },
   "outputs": [
    {
     "data": {
      "image/png": "[encoded data removed]",
      "text/plain": [
       "<Figure size 576x576 with 3 Axes>"
      ]
     },
     "metadata": {
      "needs_background": "light"
     },
     "output_type": "display_data"
    }
   ],
   "source": [
    "plt.figure(figsize=[8,8])\n",
    "plt.subplot(3,1,1)\n",
    "plt.plot(np.array(agents[0].loss).reshape([-1, 25]).mean(1))\n",
    "plt.ylabel(\"L1 Loss\")\n",
    "#plt.ylim([-0,0.001])\n",
    "plt.subplot(3,1,2)\n",
    "plt.plot([ws[i][4,6].item() for i in range(len(rewardss))])\n",
    "plt.ylabel(\"Sample weight\")\n",
    "plt.subplot(3,1,3)\n",
    "plt.plot(rewardss)\n",
    "plt.ylabel(\"Rewards\")\n",
    "plt.xlabel(\"# runs (in total or last train)\")\n",
    "plt.savefig(\"loss.svg\")"
   ]
  },
  {
   "cell_type": "markdown",
   "id": "2d71e52d-ea1f-4b66-a868-bac9cfd2ae07",
   "metadata": {},
   "source": [
    "# No ToM Train"
   ]
  },
  {
   "cell_type": "markdown",
   "id": "98b399bb-b132-4f3c-9508-c52547594941",
   "metadata": {
    "id": "39d48b5a-1d46-4721-ac86-2de14a826642"
   },
   "source": [
    "## initialization"
   ]
  },
  {
   "cell_type": "code",
   "execution_count": 32,
   "id": "9539bb94-d85c-4fd7-9cde-d6659276947b",
   "metadata": {
    "id": "443985dd-9ac5-4272-b1c6-bed75532b1d8",
    "outputId": "37ebf224-f123-4b33-ae96-043dac619f38"
   },
   "outputs": [
    {
     "name": "stdout",
     "output_type": "stream",
     "text": [
      "Wall time: 35.9 ms\n"
     ]
    }
   ],
   "source": [
    "%%time\n",
    "n_agents = 2\n",
    "agents = [agent.ExToMAgent(lr = 0.01, obs_shape = (11, 11, 4)) for i in range(n_agents)]\n",
    "batch_size = 128\n",
    "n_runs = 500"
   ]
  },
  {
   "cell_type": "markdown",
   "id": "28f3fc77-a802-4634-8a1a-8dbd73da523f",
   "metadata": {
    "id": "92d555af-7610-49a0-b15c-d082cf126231"
   },
   "source": [
    "## Run training"
   ]
  },
  {
   "cell_type": "code",
   "execution_count": 34,
   "id": "4b87abb1-3df3-472c-9054-d3f6398c412a",
   "metadata": {
    "id": "fe5aa4ab-ba83-491a-aeff-6d317ddb6ca5",
    "outputId": "e33327e2-0d9d-4893-d4e2-3b4a950f1b1d"
   },
   "outputs": [
    {
     "name": "stdout",
     "output_type": "stream",
     "text": [
      "Epoch \t0 \t Reward 2.56 \t ToM Loss untrained\n",
      "Epoch \t10 \t Reward 2.63 \t ToM Loss untrained\n",
      "Epoch \t20 \t Reward 2.74 \t ToM Loss untrained\n",
      "Epoch \t30 \t Reward 2.68 \t ToM Loss untrained\n",
      "Epoch \t40 \t Reward 2.62 \t ToM Loss untrained\n",
      "Epoch \t50 \t Reward 2.66 \t ToM Loss untrained\n",
      "Epoch \t60 \t Reward 2.68 \t ToM Loss untrained\n",
      "Epoch \t70 \t Reward 2.74 \t ToM Loss untrained\n",
      "Epoch \t80 \t Reward 2.70 \t ToM Loss untrained\n",
      "Epoch \t90 \t Reward 2.63 \t ToM Loss untrained\n",
      "Epoch \t100 \t Reward 2.64 \t ToM Loss untrained\n",
      "Epoch \t110 \t Reward 2.68 \t ToM Loss untrained\n",
      "Epoch \t120 \t Reward 2.74 \t ToM Loss untrained\n",
      "Epoch \t130 \t Reward 2.79 \t ToM Loss untrained\n",
      "Epoch \t140 \t Reward 2.73 \t ToM Loss untrained\n",
      "Epoch \t150 \t Reward 2.82 \t ToM Loss untrained\n",
      "Epoch \t160 \t Reward 2.70 \t ToM Loss untrained\n",
      "Epoch \t170 \t Reward 2.79 \t ToM Loss untrained\n",
      "Epoch \t180 \t Reward 2.73 \t ToM Loss untrained\n",
      "Epoch \t190 \t Reward 2.79 \t ToM Loss untrained\n",
      "Epoch \t200 \t Reward 2.73 \t ToM Loss untrained\n",
      "Epoch \t210 \t Reward 2.83 \t ToM Loss untrained\n",
      "Epoch \t220 \t Reward 3.02 \t ToM Loss untrained\n",
      "Epoch \t230 \t Reward 2.70 \t ToM Loss untrained\n",
      "Epoch \t240 \t Reward 2.80 \t ToM Loss untrained\n",
      "Epoch \t250 \t Reward 2.77 \t ToM Loss untrained\n",
      "Epoch \t260 \t Reward 2.77 \t ToM Loss untrained\n",
      "Epoch \t270 \t Reward 2.79 \t ToM Loss untrained\n",
      "Epoch \t280 \t Reward 2.74 \t ToM Loss untrained\n",
      "Epoch \t290 \t Reward 2.74 \t ToM Loss untrained\n",
      "Epoch \t300 \t Reward 2.77 \t ToM Loss untrained\n",
      "Epoch \t310 \t Reward 2.80 \t ToM Loss untrained\n",
      "Epoch \t320 \t Reward 2.89 \t ToM Loss untrained\n",
      "Epoch \t330 \t Reward 2.67 \t ToM Loss untrained\n",
      "Epoch \t340 \t Reward 2.85 \t ToM Loss untrained\n",
      "Epoch \t350 \t Reward 2.68 \t ToM Loss untrained\n",
      "Epoch \t360 \t Reward 2.84 \t ToM Loss untrained\n",
      "Epoch \t370 \t Reward 2.74 \t ToM Loss untrained\n",
      "Epoch \t380 \t Reward 2.88 \t ToM Loss untrained\n",
      "Epoch \t390 \t Reward 2.87 \t ToM Loss untrained\n",
      "Epoch \t400 \t Reward 2.81 \t ToM Loss untrained\n",
      "Epoch \t410 \t Reward 2.76 \t ToM Loss untrained\n",
      "Epoch \t420 \t Reward 2.70 \t ToM Loss untrained\n",
      "Epoch \t430 \t Reward 2.91 \t ToM Loss untrained\n",
      "Epoch \t440 \t Reward 2.84 \t ToM Loss untrained\n",
      "Epoch \t450 \t Reward 2.74 \t ToM Loss untrained\n",
      "Epoch \t460 \t Reward 2.82 \t ToM Loss untrained\n",
      "Epoch \t470 \t Reward 2.72 \t ToM Loss untrained\n",
      "Epoch \t480 \t Reward 2.63 \t ToM Loss untrained\n",
      "Epoch \t490 \t Reward 2.94 \t ToM Loss untrained\n"
     ]
    },
    {
     "ename": "TypeError",
     "evalue": "_save_dispatcher() got an unexpected keyword argument 'dtype'",
     "output_type": "error",
     "traceback": [
      "\u001b[1;31m---------------------------------------------------------------------------\u001b[0m",
      "\u001b[1;31mTypeError\u001b[0m                                 Traceback (most recent call last)",
      "\u001b[1;32m<timed exec>\u001b[0m in \u001b[0;36m<module>\u001b[1;34m\u001b[0m\n",
      "\u001b[1;32m<__array_function__ internals>\u001b[0m in \u001b[0;36msave\u001b[1;34m(*args, **kwargs)\u001b[0m\n",
      "\u001b[1;31mTypeError\u001b[0m: _save_dispatcher() got an unexpected keyword argument 'dtype'"
     ]
    }
   ],
   "source": [
    "%%time\n",
    "rewardss = []\n",
    "ws = []\n",
    "for i in range(n_runs):\n",
    "    envs = [env.GridWorld(size = 11, n_target = 4) for i in range(batch_size)]\n",
    "    ws.append(copy.deepcopy(agents[0].policy.fc.weight.cpu().detach())) \n",
    "    state = np.zeros([batch_size, 2, 11, 11, 4])\n",
    "    for ie, e in enumerate(envs): # initial env\n",
    "        e.reset()\n",
    "        state[ie] = e.observe()\n",
    "    observes = [state[:, ia, :, :, :].transpose([0, 3, 1, 2]) for ia in range(n_agents)]\n",
    "    re = []\n",
    "    \n",
    "    for istep in range(10):\n",
    "        act = [agents[ia].act(observes[ia]) for ia in range(n_agents)]\n",
    "        \n",
    "        state = np.zeros([batch_size, n_agents, 11, 11, 4])\n",
    "        rewards = np.zeros([batch_size])\n",
    "        dones = np.zeros([batch_size])\n",
    "        for ie, e in enumerate(envs):\n",
    "            _state, reward, done = e.step([act[ia][ie, 0].item() for ia in range(n_agents)])\n",
    "            state[ie,:,:,:,:] = _state\n",
    "            rewards[ie] = reward\n",
    "            dones[ie] = done\n",
    "        observes = [state[:, ia, :, :, :4].transpose([0, 3, 1, 2]).copy() for ia in range(n_agents)]\n",
    "        re.append(np.mean(rewards))\n",
    "\n",
    "        for ia in range(n_agents):\n",
    "            agents[ia].record(rewards, observes[ia], dones)\n",
    "            agents[ia].train_policy()\n",
    "    '''\n",
    "    if agents[0].trainingprocess==1 and i%100 ==0:\n",
    "        history_states, trajectories = [], []\n",
    "        for ie in range(batch_size):\n",
    "            _history_states, _trajectories = envs[ie].recall()\n",
    "            history_states.append(_history_states)\n",
    "            trajectories.append(_trajectories)\n",
    "        history_obs = np.concatenate(history_states)\n",
    "        trajectories = np.concatenate(trajectories)\n",
    "        for ia in range(n_agents):\n",
    "            obs = history_obs[:, ia, :, :, :][:, :, :, [0, 1, 3]].transpose([0, 3, 1, 2]).copy()\n",
    "            traj = trajectories[:,:,:,ia]\n",
    "            for j in range(round(1000)):\n",
    "                agents[ia].train_ToMNet(obs, traj)\n",
    "    '''\n",
    "    for ia in range(n_agents):\n",
    "        agents[ia].reset()\n",
    "    rewardss.append(re)\n",
    "    if i%10 ==0:\n",
    "        if agents[0].trainingprocess==1 and False:\n",
    "            print(\"Epoch \\t%d \\t Reward %.2f \\t ToM Loss %.5f\"%(i, np.sum(rewardss[-1]), agents[0].ToMloss[-1]))\n",
    "        else:\n",
    "            print(\"Epoch \\t%d \\t Reward %.2f \\t ToM Loss untrained\"%(i, np.sum(rewardss[-1])))\n",
    "    tr.cuda.empty_cache()\n",
    "tr.save(agents[0].policy.state_dict(), 'PolicyNet_dict_ExToM.pt')\n",
    "tr.save(agents[0].ToMNet.state_dict(), 'ToMNet_dict.pt')\n",
    "np.save(\"NoExToM.npy\", ((agents[0].loss, agents[1].loss), rewardss), dtype=object)"
   ]
  }
 ],
 "metadata": {
  "colab": {
   "provenance": []
  },
  "kernelspec": {
   "display_name": "Python 3 (ipykernel)",
   "language": "python",
   "name": "python3"
  },
  "language_info": {
   "codemirror_mode": {
    "name": "ipython",
    "version": 3
   },
   "file_extension": ".py",
   "mimetype": "text/x-python",
   "name": "python",
   "nbconvert_exporter": "python",
   "pygments_lexer": "ipython3",
   "version": "3.8.12"
  }
 },
 "nbformat": 4,
 "nbformat_minor": 5
}
